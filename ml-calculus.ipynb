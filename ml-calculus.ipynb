{
 "cells": [
  {
   "cell_type": "markdown",
   "id": "87e6b300",
   "metadata": {},
   "source": [
    "## First simple linear regression in Python"
   ]
  },
  {
   "cell_type": "markdown",
   "id": "edf1a8ea",
   "metadata": {},
   "source": [
    "<strong>Linear regression </strong> is a regression model that estimates the <span style=\"color:red\">relationship</span> between one <span style=\"color:red\">independent variable</span> and one <span style=\"color:red\">dependent variable</span> using a <span style=\"color:red\">straight line</span>"
   ]
  },
  {
   "cell_type": "code",
   "execution_count": 1,
   "id": "878b2d92",
   "metadata": {},
   "outputs": [
    {
     "name": "stderr",
     "output_type": "stream",
     "text": [
      "C:\\Users\\Tuyen\\anaconda3\\lib\\site-packages\\scipy\\__init__.py:146: UserWarning: A NumPy version >=1.16.5 and <1.23.0 is required for this version of SciPy (detected version 1.23.0\n",
      "  warnings.warn(f\"A NumPy version >={np_minversion} and <{np_maxversion}\"\n"
     ]
    }
   ],
   "source": [
    "import numpy as np   # allow to work with multi-dimentional arrays\n",
    "import pandas as pd   # allow to organize data in a tabular form\n",
    "import scipy # tools for scientific computations\n",
    "import statsmodels.api as sm # build on top of numpy and scipy: statistics in py => good summary\n",
    "import matplotlib.pyplot as plt # visualization of numpy computation\n",
    "import seaborn as sns # visualization library based on matplotlib. A high level interface for drawing attractive statistical graphics\n",
    "import sklearn # machine learning library"
   ]
  },
  {
   "cell_type": "markdown",
   "id": "4df5aae5",
   "metadata": {},
   "source": [
    "Below we load a dataset of 84 data points (SAT, GPA) of 84 students"
   ]
  },
  {
   "cell_type": "code",
   "execution_count": 2,
   "id": "af6348df",
   "metadata": {},
   "outputs": [
    {
     "data": {
      "text/html": [
       "<div>\n",
       "<style scoped>\n",
       "    .dataframe tbody tr th:only-of-type {\n",
       "        vertical-align: middle;\n",
       "    }\n",
       "\n",
       "    .dataframe tbody tr th {\n",
       "        vertical-align: top;\n",
       "    }\n",
       "\n",
       "    .dataframe thead th {\n",
       "        text-align: right;\n",
       "    }\n",
       "</style>\n",
       "<table border=\"1\" class=\"dataframe\">\n",
       "  <thead>\n",
       "    <tr style=\"text-align: right;\">\n",
       "      <th></th>\n",
       "      <th>SAT</th>\n",
       "      <th>GPA</th>\n",
       "    </tr>\n",
       "  </thead>\n",
       "  <tbody>\n",
       "    <tr>\n",
       "      <th>0</th>\n",
       "      <td>1714</td>\n",
       "      <td>2.40</td>\n",
       "    </tr>\n",
       "    <tr>\n",
       "      <th>1</th>\n",
       "      <td>1664</td>\n",
       "      <td>2.52</td>\n",
       "    </tr>\n",
       "    <tr>\n",
       "      <th>2</th>\n",
       "      <td>1760</td>\n",
       "      <td>2.54</td>\n",
       "    </tr>\n",
       "    <tr>\n",
       "      <th>3</th>\n",
       "      <td>1685</td>\n",
       "      <td>2.74</td>\n",
       "    </tr>\n",
       "    <tr>\n",
       "      <th>4</th>\n",
       "      <td>1693</td>\n",
       "      <td>2.83</td>\n",
       "    </tr>\n",
       "  </tbody>\n",
       "</table>\n",
       "</div>"
      ],
      "text/plain": [
       "    SAT   GPA\n",
       "0  1714  2.40\n",
       "1  1664  2.52\n",
       "2  1760  2.54\n",
       "3  1685  2.74\n",
       "4  1693  2.83"
      ]
     },
     "execution_count": 2,
     "metadata": {},
     "output_type": "execute_result"
    }
   ],
   "source": [
    "data = pd.read_csv('1.01. Simple linear regression.csv')\n",
    "data"
   ]
  },
  {
   "cell_type": "code",
   "execution_count": 8,
   "id": "0a48bffd",
   "metadata": {},
   "outputs": [
    {
     "data": {
      "text/plain": [
       "84"
      ]
     },
     "execution_count": 8,
     "metadata": {},
     "output_type": "execute_result"
    }
   ],
   "source": [
    "data['SAT'].size"
   ]
  },
  {
   "cell_type": "markdown",
   "id": "f86a817e",
   "metadata": {},
   "source": [
    "Lets visualize the data with a scatter plot, in which SAT corresponds to the x horizontal line and GPA corresponds to y vertical line."
   ]
  },
  {
   "cell_type": "code",
   "execution_count": 26,
   "id": "80fbc9a3",
   "metadata": {},
   "outputs": [
    {
     "data": {
      "text/plain": [
       "<matplotlib.collections.PathCollection at 0x1b435b44dc0>"
      ]
     },
     "execution_count": 26,
     "metadata": {},
     "output_type": "execute_result"
    },
    {
     "data": {
      "image/png": "[encoded data removed]",
      "text/plain": [
       "<Figure size 432x288 with 1 Axes>"
      ]
     },
     "metadata": {
      "needs_background": "light"
     },
     "output_type": "display_data"
    }
   ],
   "source": [
    "fig, ax = plt.subplots()\n",
    "\n",
    "plt.xlabel('SAT - Independent var')\n",
    "plt.ylabel('GPA - Dependent var')\n",
    "\n",
    "ax.scatter(data['SAT'], data['GPA'])"
   ]
  },
  {
   "cell_type": "markdown",
   "id": "ba51edc4",
   "metadata": {},
   "source": [
    "Observing the scatter plot, the SAT and the GPA follows a linear relationship.\n"
   ]
  },
  {
   "cell_type": "markdown",
   "id": "6e3f3c79",
   "metadata": {},
   "source": [
    "The <strong>best fit line y=mx+b</strong> for the data points in the above chart can be computed using <strong>statsmodel</strong> library "
   ]
  },
  {
   "cell_type": "code",
   "execution_count": 30,
   "id": "bc4d5723",
   "metadata": {},
   "outputs": [],
   "source": [
    "# pick dependent variable and independent variable for the model\n",
    "# SAT is the independent variable\n",
    "# GPA is the dependent variable\n",
    "x = sm.add_constant(data['SAT']) # add constant b to the model\n",
    "y = data['GPA']"
   ]
  },
  {
   "cell_type": "code",
   "execution_count": 31,
   "id": "1f15466e",
   "metadata": {},
   "outputs": [],
   "source": [
    "# create a Ordinary Least Square model\n",
    "model = sm.OLS(y, x)"
   ]
  },
  {
   "cell_type": "code",
   "execution_count": 32,
   "id": "07a59b76",
   "metadata": {},
   "outputs": [],
   "source": [
    "# find the best fit line for the data points\n",
    "result = model.fit()"
   ]
  },
  {
   "cell_type": "code",
   "execution_count": 17,
   "id": "0360504d",
   "metadata": {},
   "outputs": [
    {
     "data": {
      "text/html": [
       "<table class=\"simpletable\">\n",
       "<caption>OLS Regression Results</caption>\n",
       "<tr>\n",
       "  <th>Dep. Variable:</th>           <td>GPA</td>       <th>  R-squared:         </th> <td>   0.406</td>\n",
       "</tr>\n",
       "<tr>\n",
       "  <th>Model:</th>                   <td>OLS</td>       <th>  Adj. R-squared:    </th> <td>   0.399</td>\n",
       "</tr>\n",
       "<tr>\n",
       "  <th>Method:</th>             <td>Least Squares</td>  <th>  F-statistic:       </th> <td>   56.05</td>\n",
       "</tr>\n",
       "<tr>\n",
       "  <th>Date:</th>             <td>Sat, 17 Sep 2022</td> <th>  Prob (F-statistic):</th> <td>7.20e-11</td>\n",
       "</tr>\n",
       "<tr>\n",
       "  <th>Time:</th>                 <td>16:49:36</td>     <th>  Log-Likelihood:    </th> <td>  12.672</td>\n",
       "</tr>\n",
       "<tr>\n",
       "  <th>No. Observations:</th>      <td>    84</td>      <th>  AIC:               </th> <td>  -21.34</td>\n",
       "</tr>\n",
       "<tr>\n",
       "  <th>Df Residuals:</th>          <td>    82</td>      <th>  BIC:               </th> <td>  -16.48</td>\n",
       "</tr>\n",
       "<tr>\n",
       "  <th>Df Model:</th>              <td>     1</td>      <th>                     </th>     <td> </td>   \n",
       "</tr>\n",
       "<tr>\n",
       "  <th>Covariance Type:</th>      <td>nonrobust</td>    <th>                     </th>     <td> </td>   \n",
       "</tr>\n",
       "</table>\n",
       "<table class=\"simpletable\">\n",
       "<tr>\n",
       "    <td></td>       <th>coef</th>     <th>std err</th>      <th>t</th>      <th>P>|t|</th>  <th>[0.025</th>    <th>0.975]</th>  \n",
       "</tr>\n",
       "<tr>\n",
       "  <th>const</th> <td>    0.2750</td> <td>    0.409</td> <td>    0.673</td> <td> 0.503</td> <td>   -0.538</td> <td>    1.088</td>\n",
       "</tr>\n",
       "<tr>\n",
       "  <th>SAT</th>   <td>    0.0017</td> <td>    0.000</td> <td>    7.487</td> <td> 0.000</td> <td>    0.001</td> <td>    0.002</td>\n",
       "</tr>\n",
       "</table>\n",
       "<table class=\"simpletable\">\n",
       "<tr>\n",
       "  <th>Omnibus:</th>       <td>12.839</td> <th>  Durbin-Watson:     </th> <td>   0.950</td>\n",
       "</tr>\n",
       "<tr>\n",
       "  <th>Prob(Omnibus):</th> <td> 0.002</td> <th>  Jarque-Bera (JB):  </th> <td>  16.155</td>\n",
       "</tr>\n",
       "<tr>\n",
       "  <th>Skew:</th>          <td>-0.722</td> <th>  Prob(JB):          </th> <td>0.000310</td>\n",
       "</tr>\n",
       "<tr>\n",
       "  <th>Kurtosis:</th>      <td> 4.590</td> <th>  Cond. No.          </th> <td>3.29e+04</td>\n",
       "</tr>\n",
       "</table><br/><br/>Notes:<br/>[1] Standard Errors assume that the covariance matrix of the errors is correctly specified.<br/>[2] The condition number is large, 3.29e+04. This might indicate that there are<br/>strong multicollinearity or other numerical problems."
      ],
      "text/plain": [
       "<class 'statsmodels.iolib.summary.Summary'>\n",
       "\"\"\"\n",
       "                            OLS Regression Results                            \n",
       "==============================================================================\n",
       "Dep. Variable:                    GPA   R-squared:                       0.406\n",
       "Model:                            OLS   Adj. R-squared:                  0.399\n",
       "Method:                 Least Squares   F-statistic:                     56.05\n",
       "Date:                Sat, 17 Sep 2022   Prob (F-statistic):           7.20e-11\n",
       "Time:                        16:49:36   Log-Likelihood:                 12.672\n",
       "No. Observations:                  84   AIC:                            -21.34\n",
       "Df Residuals:                      82   BIC:                            -16.48\n",
       "Df Model:                           1                                         \n",
       "Covariance Type:            nonrobust                                         \n",
       "==============================================================================\n",
       "                 coef    std err          t      P>|t|      [0.025      0.975]\n",
       "------------------------------------------------------------------------------\n",
       "const          0.2750      0.409      0.673      0.503      -0.538       1.088\n",
       "SAT            0.0017      0.000      7.487      0.000       0.001       0.002\n",
       "==============================================================================\n",
       "Omnibus:                       12.839   Durbin-Watson:                   0.950\n",
       "Prob(Omnibus):                  0.002   Jarque-Bera (JB):               16.155\n",
       "Skew:                          -0.722   Prob(JB):                     0.000310\n",
       "Kurtosis:                       4.590   Cond. No.                     3.29e+04\n",
       "==============================================================================\n",
       "\n",
       "Notes:\n",
       "[1] Standard Errors assume that the covariance matrix of the errors is correctly specified.\n",
       "[2] The condition number is large, 3.29e+04. This might indicate that there are\n",
       "strong multicollinearity or other numerical problems.\n",
       "\"\"\""
      ]
     },
     "execution_count": 17,
     "metadata": {},
     "output_type": "execute_result"
    }
   ],
   "source": [
    "result.summary()"
   ]
  },
  {
   "cell_type": "markdown",
   "id": "37f74183",
   "metadata": {},
   "source": [
    "The summary above tells us a lot about our linear regression model, but for now, we only look at two parameters: \"coef\" of the constant and the \"coef\" of SAT. These will give us the m and b values for our best fit line."
   ]
  },
  {
   "cell_type": "code",
   "execution_count": 33,
   "id": "a263087e",
   "metadata": {},
   "outputs": [],
   "source": [
    "m=0.0017\n",
    "b=0.2750"
   ]
  },
  {
   "cell_type": "markdown",
   "id": "15259e24",
   "metadata": {},
   "source": [
    "Next, we will plot the line: y=0.0017x+0.275 where x is a data point of SAT and y is the corresponding GPA"
   ]
  },
  {
   "cell_type": "code",
   "execution_count": 25,
   "id": "15bbcaa6",
   "metadata": {},
   "outputs": [
    {
     "name": "stdout",
     "output_type": "stream",
     "text": [
      "1613.2\n",
      "2070.8\n"
     ]
    },
    {
     "data": {
      "text/plain": [
       "[<matplotlib.lines.Line2D at 0x1b435b647f0>]"
      ]
     },
     "execution_count": 25,
     "metadata": {},
     "output_type": "execute_result"
    },
    {
     "data": {
      "image/png": "[encoded data removed]",
      "text/plain": [
       "<Figure size 432x288 with 1 Axes>"
      ]
     },
     "metadata": {
      "needs_background": "light"
     },
     "output_type": "display_data"
    }
   ],
   "source": [
    "# draw scatter plot\n",
    "fig, ax = plt.subplots()\n",
    "\n",
    "plt.xlabel('SAT - Dependent var')\n",
    "plt.ylabel('GPA - Independent var')\n",
    "\n",
    "ax.scatter(data['SAT'], data['GPA'])\n",
    "\n",
    "# draw the regression line\n",
    "xmin, xmax = plt.xlim()\n",
    "ymin, ymax = m*xmin+b, m*xmax+b\n",
    "ax.plot([xmin, xmax], [ymin, ymax],color='red')\n"
   ]
  },
  {
   "cell_type": "markdown",
   "id": "3fe7f3c7",
   "metadata": {},
   "source": [
    "The red line is the best fit line that minimizes the distance between it and the data points (GPA, SAT)"
   ]
  },
  {
   "cell_type": "markdown",
   "id": "a6186d3f",
   "metadata": {},
   "source": [
    "<span style=\"color:green\">Our goal in this notebook is to create the best fit line without using available statsmodel library. To do that, lets dive in to some Math concepts in Caculus "
   ]
  },
  {
   "cell_type": "code",
   "execution_count": null,
   "id": "abf4e5f2",
   "metadata": {},
   "outputs": [],
   "source": []
  }
 ],
 "metadata": {
  "kernelspec": {
   "display_name": "Python 3 (ipykernel)",
   "language": "python",
   "name": "python3"
  },
  "language_info": {
   "codemirror_mode": {
    "name": "ipython",
    "version": 3
   },
   "file_extension": ".py",
   "mimetype": "text/x-python",
   "name": "python",
   "nbconvert_exporter": "python",
   "pygments_lexer": "ipython3",
   "version": "3.9.7"
  }
 },
 "nbformat": 4,
 "nbformat_minor": 5
}
